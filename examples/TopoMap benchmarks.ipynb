{
 "cells": [
  {
   "cell_type": "markdown",
   "metadata": {},
   "source": [
    "# TopoMap.jl benchmarks"
   ]
  },
  {
   "cell_type": "code",
   "execution_count": 1,
   "metadata": {},
   "outputs": [],
   "source": [
    "using TopoMap\n",
    "using DataFrames, CSV, BenchmarkTools"
   ]
  },
  {
   "cell_type": "markdown",
   "metadata": {},
   "source": [
    "## Iris"
   ]
  },
  {
   "cell_type": "code",
   "execution_count": 2,
   "metadata": {},
   "outputs": [],
   "source": [
    "iris = CSV.read(\"../data/iris.data_normalized\", DataFrame,header=0);"
   ]
  },
  {
   "cell_type": "code",
   "execution_count": 3,
   "metadata": {},
   "outputs": [],
   "source": [
    "iris_arr = Matrix(iris);"
   ]
  },
  {
   "cell_type": "code",
   "execution_count": 4,
   "metadata": {},
   "outputs": [
    {
     "name": "stdout",
     "output_type": "stream",
     "text": [
      "  954.646 μs (9850 allocations: 545.12 KiB)\n"
     ]
    }
   ],
   "source": [
    "@btime tm = TopoMap.project(iris_arr; dimensions=2);"
   ]
  },
  {
   "cell_type": "code",
   "execution_count": 5,
   "metadata": {},
   "outputs": [
    {
     "name": "stdout",
     "output_type": "stream",
     "text": [
      "  2.718 ms (10243 allocations: 3.68 MiB)\n"
     ]
    }
   ],
   "source": [
    "@btime tm = TopoMap.project(iris_arr; dimensions=3, kernel_estimator=\"normal\");"
   ]
  },
  {
   "cell_type": "code",
   "execution_count": 6,
   "metadata": {},
   "outputs": [
    {
     "name": "stdout",
     "output_type": "stream",
     "text": [
      "  986.974 μs (10739 allocations: 560.20 KiB)\n"
     ]
    }
   ],
   "source": [
    "@btime tm = TopoMap.project(iris_arr; dimensions=3);"
   ]
  },
  {
   "cell_type": "markdown",
   "metadata": {},
   "source": [
    "## FICO"
   ]
  },
  {
   "cell_type": "code",
   "execution_count": 7,
   "metadata": {},
   "outputs": [],
   "source": [
    "fico = CSV.read(\"../data/cleaned_fico_data.csv_normalized\", DataFrame,header=0);"
   ]
  },
  {
   "cell_type": "code",
   "execution_count": 8,
   "metadata": {},
   "outputs": [],
   "source": [
    "fico_arr = Matrix(fico);"
   ]
  },
  {
   "cell_type": "code",
   "execution_count": 9,
   "metadata": {},
   "outputs": [
    {
     "name": "stdout",
     "output_type": "stream",
     "text": [
      "  981.277 ms (5441479 allocations: 217.01 MiB)\n"
     ]
    }
   ],
   "source": [
    "@btime tm = TopoMap.project(fico_arr; dimensions=2);"
   ]
  },
  {
   "cell_type": "code",
   "execution_count": 10,
   "metadata": {},
   "outputs": [
    {
     "name": "stdout",
     "output_type": "stream",
     "text": [
      "  1.018 s (5461320 allocations: 261.02 MiB)\n"
     ]
    }
   ],
   "source": [
    "@btime tm = TopoMap.project(fico_arr; dimensions=3, kernel_estimator=\"normal\");"
   ]
  },
  {
   "cell_type": "code",
   "execution_count": 11,
   "metadata": {},
   "outputs": [
    {
     "name": "stdout",
     "output_type": "stream",
     "text": [
      "  997.206 ms (5519412 allocations: 218.27 MiB)\n"
     ]
    }
   ],
   "source": [
    "@btime tm = TopoMap.project(fico_arr; dimensions=3);"
   ]
  },
  {
   "cell_type": "markdown",
   "metadata": {},
   "source": [
    "## Mfeat-kar"
   ]
  },
  {
   "cell_type": "code",
   "execution_count": 12,
   "metadata": {},
   "outputs": [],
   "source": [
    "mfeat = CSV.read(\"../data/mfeat-kar_normalized\", DataFrame,header=0);"
   ]
  },
  {
   "cell_type": "code",
   "execution_count": 13,
   "metadata": {},
   "outputs": [],
   "source": [
    "mfeat_arr = Matrix(mfeat);"
   ]
  },
  {
   "cell_type": "code",
   "execution_count": 14,
   "metadata": {},
   "outputs": [
    {
     "name": "stdout",
     "output_type": "stream",
     "text": [
      "  1.985 s (751752 allocations: 30.71 MiB)\n"
     ]
    }
   ],
   "source": [
    "@btime tm = TopoMap.project(mfeat_arr; dimensions=2);"
   ]
  },
  {
   "cell_type": "code",
   "execution_count": 15,
   "metadata": {},
   "outputs": [
    {
     "name": "stdout",
     "output_type": "stream",
     "text": [
      "  1.974 s (755847 allocations: 41.63 MiB)\n"
     ]
    }
   ],
   "source": [
    "@btime tm = TopoMap.project(mfeat_arr; dimensions=3, kernel_estimator=\"normal\");"
   ]
  },
  {
   "cell_type": "code",
   "execution_count": 16,
   "metadata": {},
   "outputs": [
    {
     "name": "stdout",
     "output_type": "stream",
     "text": [
      "  1.985 s (766717 allocations: 30.95 MiB)\n"
     ]
    }
   ],
   "source": [
    "@btime tm = TopoMap.project(mfeat_arr; dimensions=3);"
   ]
  },
  {
   "cell_type": "markdown",
   "metadata": {},
   "source": [
    "## MNIST 1000"
   ]
  },
  {
   "cell_type": "code",
   "execution_count": 17,
   "metadata": {},
   "outputs": [],
   "source": [
    "mnist = CSV.read(\"../data/mnist_train.csv_normalized\", DataFrame, header=0);"
   ]
  },
  {
   "cell_type": "code",
   "execution_count": 18,
   "metadata": {},
   "outputs": [],
   "source": [
    "mnist1000_arr = Matrix{Float64}(mnist)[1:1000, :];"
   ]
  },
  {
   "cell_type": "code",
   "execution_count": 19,
   "metadata": {},
   "outputs": [
    {
     "name": "stdout",
     "output_type": "stream",
     "text": [
      "  4.341 s (303215 allocations: 12.61 MiB)\n"
     ]
    }
   ],
   "source": [
    "@btime tm = TopoMap.project(mnist1000_arr; dimensions=2);"
   ]
  },
  {
   "cell_type": "code",
   "execution_count": 20,
   "metadata": {},
   "outputs": [
    {
     "name": "stdout",
     "output_type": "stream",
     "text": [
      "  4.412 s (305310 allocations: 19.33 MiB)\n"
     ]
    }
   ],
   "source": [
    "@btime tm = TopoMap.project(mnist1000_arr; dimensions=3, kernel_estimator=\"normal\");"
   ]
  },
  {
   "cell_type": "code",
   "execution_count": 21,
   "metadata": {},
   "outputs": [
    {
     "name": "stdout",
     "output_type": "stream",
     "text": [
      "  4.389 s (310181 allocations: 12.72 MiB)\n"
     ]
    }
   ],
   "source": [
    "@btime tm = TopoMap.project(mnist1000_arr; dimensions=3);"
   ]
  },
  {
   "cell_type": "markdown",
   "metadata": {},
   "source": [
    "## MNIST 5000"
   ]
  },
  {
   "cell_type": "code",
   "execution_count": 22,
   "metadata": {},
   "outputs": [],
   "source": [
    "mnist5000_arr = Matrix{Float64}(mnist)[1:5000,:];"
   ]
  },
  {
   "cell_type": "code",
   "execution_count": 23,
   "metadata": {},
   "outputs": [
    {
     "name": "stdout",
     "output_type": "stream",
     "text": [
      "  108.448 s (7007850 allocations: 272.02 MiB)\n"
     ]
    }
   ],
   "source": [
    "@btime tm = TopoMap.project(mnist5000_arr; dimensions=2);"
   ]
  },
  {
   "cell_type": "code",
   "execution_count": 24,
   "metadata": {},
   "outputs": [
    {
     "name": "stdout",
     "output_type": "stream",
     "text": [
      "  108.330 s (7017949 allocations: 295.56 MiB)\n"
     ]
    }
   ],
   "source": [
    "@btime tm = TopoMap.project(mnist5000_arr; dimensions=3, kernel_estimator=\"normal\");"
   ]
  },
  {
   "cell_type": "code",
   "execution_count": 25,
   "metadata": {},
   "outputs": [
    {
     "name": "stdout",
     "output_type": "stream",
     "text": [
      "  110.004 s (7046815 allocations: 272.65 MiB)\n"
     ]
    }
   ],
   "source": [
    "@btime tm = TopoMap.project(mnist5000_arr; dimensions=3);"
   ]
  },
  {
   "cell_type": "markdown",
   "metadata": {},
   "source": [
    "## MNIST 60000"
   ]
  },
  {
   "cell_type": "markdown",
   "metadata": {},
   "source": [
    "Run and go for a 3+ hour coffee break."
   ]
  },
  {
   "cell_type": "code",
   "execution_count": 26,
   "metadata": {},
   "outputs": [],
   "source": [
    "#mnistfull_arr = Matrix{Float64}(mnist) ;"
   ]
  },
  {
   "cell_type": "code",
   "execution_count": 27,
   "metadata": {},
   "outputs": [],
   "source": [
    "# @time tm = TopoMap.project(mnistfull_arr; dimensions=2)"
   ]
  },
  {
   "cell_type": "code",
   "execution_count": null,
   "metadata": {},
   "outputs": [],
   "source": []
  }
 ],
 "metadata": {
  "@webio": {
   "lastCommId": "288b7038-8ee9-4e31-b282-ef7b87fac4e6",
   "lastKernelId": "221a3d3d-346a-45b4-9c50-802df0d7cd31"
  },
  "kernelspec": {
   "display_name": "Julia 1.7.2",
   "language": "julia",
   "name": "julia-1.7"
  },
  "language_info": {
   "file_extension": ".jl",
   "mimetype": "application/julia",
   "name": "julia",
   "version": "1.7.2"
  }
 },
 "nbformat": 4,
 "nbformat_minor": 4
}
