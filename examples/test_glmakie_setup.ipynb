{
 "cells": [
  {
   "cell_type": "code",
   "execution_count": 2,
   "metadata": {},
   "outputs": [],
   "source": [
    "using TopoMap\n",
    "using Random, Distributions, MLDatasets, GLMakie"
   ]
  },
  {
   "cell_type": "code",
   "execution_count": null,
   "metadata": {},
   "outputs": [],
   "source": [
    "data = rand(Normal(0), (3, 266))\n",
    "labels = repeat([1], 266)\n",
    "data = hcat(data, rand(Normal(5), (3,267)))\n",
    "append!(labels, repeat([2],267))\n",
    "data = hcat(data, rand(Normal(10), (3,267)))\n",
    "append!(labels, repeat([3],267))\n",
    "\n",
    "scatter(data[1,:],data[2,:],data[3,:],group=labels)"
   ]
  },
  {
   "cell_type": "code",
   "execution_count": null,
   "metadata": {},
   "outputs": [],
   "source": [
    "@time tm= TopoMap.project(data; dimensions=3, kernel_estimator=\"normal\", bandwidth=(0.337,0.337));\n",
    "scatter(tm[:,1], tm[:,2], tm[:,3], group=labels, title=\"Projection of 3d spheres with z = density estimate\")"
   ]
  }
 ],
 "metadata": {
  "kernelspec": {
   "display_name": "Julia 1.7.2",
   "language": "julia",
   "name": "julia-1.7"
  },
  "language_info": {
   "file_extension": ".jl",
   "mimetype": "application/julia",
   "name": "julia",
   "version": "1.7.2"
  }
 },
 "nbformat": 4,
 "nbformat_minor": 4
}
