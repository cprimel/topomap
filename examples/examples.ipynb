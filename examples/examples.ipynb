{
 "cells": [
  {
   "cell_type": "code",
   "execution_count": null,
   "metadata": {},
   "outputs": [],
   "source": [
    "using TopoMap\n",
    "using Plots, Distributions, MLDatasets, Random \n",
    "pyplot();"
   ]
  },
  {
   "cell_type": "code",
   "execution_count": null,
   "metadata": {},
   "outputs": [],
   "source": [
    "data = rand(Normal(0), (3, 266))\n",
    "labels = repeat([1], 266)\n",
    "data = hcat(data, rand(Normal(5), (3,266)))\n",
    "append!(labels, repeat([2],266))\n",
    "data = hcat(data, rand(Normal(10), (3,267)))\n",
    "append!(labels, repeat([3],267))\n",
    "scatter(data[1,:], data[2,:], data[3,:], group=labels, fmt =:png)\n",
    "savefig(\"3d-spheres\")"
   ]
  },
  {
   "cell_type": "code",
   "execution_count": null,
   "metadata": {},
   "outputs": [],
   "source": [
    "#@time tm, _ = TopoMap.project(data, 10 ,true);\n",
    "@time tm = TopoMap.project(data, 6, true);"
   ]
  },
  {
   "cell_type": "code",
   "execution_count": null,
   "metadata": {},
   "outputs": [],
   "source": [
    "scatter(tm[1,:], tm[2,:],group=labels, title = \"Projection of 3d spheres\", fmt =:png)\n",
    "savefig(\"projection-3d-spheres\")"
   ]
  },
  {
   "cell_type": "code",
   "execution_count": null,
   "metadata": {},
   "outputs": [],
   "source": [
    "#Iris.download(; i_accept_the_terms_of_use=true);\n",
    "iris_features = Iris.features();\n",
    "iris_labels = Iris.labels();"
   ]
  },
  {
   "cell_type": "code",
   "execution_count": null,
   "metadata": {},
   "outputs": [],
   "source": [
    "#@time tm_iris, steps = TopoMap.project(iris_features, 10, true);\n",
    "@time tm_iris = TopoMap.project(iris_features, 6, true);"
   ]
  },
  {
   "cell_type": "code",
   "execution_count": null,
   "metadata": {},
   "outputs": [],
   "source": [
    "scatter(tm_iris[1,:], tm_iris[2,:], group=iris_labels,title = \"2D Projection of Iris Dataset\", fmt =:png)\n",
    "savefig(\"projection-iris\")"
   ]
  },
  {
   "cell_type": "markdown",
   "metadata": {},
   "source": [
    "## Generate .gif"
   ]
  },
  {
   "cell_type": "code",
   "execution_count": null,
   "metadata": {},
   "outputs": [],
   "source": [
    "#xMax = maximum(tm_iris[1,:])\n",
    "#xMin = -xMax\n",
    "#yMax = maximum(tm_iris[2,:])\n",
    "#yMin =-yMax\n",
    "#anim = @animate for i in 1:length(steps)\n",
    "#    step = steps[i]\n",
    "#    res = Array{Float64,2}(undef, 2, length(step))\n",
    "#    for i in eachindex(step)\n",
    "#        res[1, i] = step[i].p.x\n",
    "#        res[2, i] = step[i].p.y\n",
    "#    end\n",
    "#    scatter(res[1,:], res[2,:],group=iris_labels,xlim=(xMin,xMax), ylim=(yMin, yMax))\n",
    "#end"
   ]
  },
  {
   "cell_type": "code",
   "execution_count": null,
   "metadata": {},
   "outputs": [],
   "source": [
    "#gif(anim, fps=5)"
   ]
  },
  {
   "cell_type": "markdown",
   "metadata": {},
   "source": [
    "## 3d projection of Iris data"
   ]
  },
  {
   "cell_type": "code",
   "execution_count": null,
   "metadata": {},
   "outputs": [],
   "source": [
    "#@time tm_iris_3d, steps = TopoMap.project(iris_features, 3, 10, true);"
   ]
  },
  {
   "cell_type": "code",
   "execution_count": null,
   "metadata": {},
   "outputs": [],
   "source": [
    "#scatter(tm_iris_3d[1,:], tm_iris_3d[2,:], tm_iris_3d[3,:],group=iris_labels,title = \"3D Projection of Iris Dataset\")"
   ]
  },
  {
   "cell_type": "markdown",
   "metadata": {},
   "source": []
  }
 ],
 "metadata": {
  "kernelspec": {
   "display_name": "Julia 1.7.2",
   "language": "julia",
   "name": "julia-1.7"
  },
  "language_info": {
   "file_extension": ".jl",
   "mimetype": "application/julia",
   "name": "julia",
   "version": "1.7.2"
  },
  "orig_nbformat": 4
 },
 "nbformat": 4,
 "nbformat_minor": 2
}
